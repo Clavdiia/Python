{
 "cells": [
  {
   "cell_type": "markdown",
   "id": "5eb1e66f",
   "metadata": {},
   "source": [
    "# Домашнее задание к лекции \"Функции\"\n",
    "Вам нужно помочь секретарю автоматизировать работу. Для этого нужно написать программу, которая будет на основе хранимых данных исполнять пользовательские команды.\n",
    "\n",
    "Исходные данные имеют следующую структуру:\n",
    "\n",
    "перечень всех документов\n",
    "documents = [\n",
    " {'type': 'passport', 'number': '2207 876234', 'name': 'Василий Гупкин'},\n",
    " {'type': 'invoice', 'number': '11-2', 'name': 'Геннадий Покемонов'},\n",
    " {'type': 'insurance', 'number': '10006', 'name': 'Аристарх Павлов'}\n",
    "]\n",
    "перечень полок, на которых хранятся документы (если документ есть в documents, то он обязательно должен быть и в directories)\n",
    "directories = {\n",
    " '1': ['2207 876234', '11-2'],\n",
    " '2': ['10006'],\n",
    " '3': []\n",
    "}\n",
    "Общие требования к программе:\n",
    "\n",
    "код должен быть грамотно декомпозирован (каждая функция отвечает за свою конкретную задачу, дублирующийся функционал переиспользуется, а его код не повторяется);\n",
    "в коде отсутствуют глобальные переменные (за исключением documents и directories);\n",
    "пользовательский ввод обрабатывается в цикле while до тех пор, пока пользователь явно не завершит программу (вводом команды \"q\")."
   ]
  },
  {
   "cell_type": "code",
   "execution_count": 339,
   "id": "a63caa8b",
   "metadata": {},
   "outputs": [],
   "source": [
    "documents = [\n",
    " {'type': 'passport', 'number': '2207 876234', 'name': 'Василий Гупкин'},\n",
    " {'type': 'invoice', 'number': '11-2', 'name': 'Геннадий Покемонов'},\n",
    " {'type': 'insurance', 'number': '10006', 'name': 'Аристарх Павлов'}\n",
    "]\n",
    "directories = {\n",
    " '1': ['2207 876234', '11-2'],\n",
    " '2': ['10006'],\n",
    " '3': []\n",
    "}"
   ]
  },
  {
   "cell_type": "markdown",
   "id": "da6c78c2",
   "metadata": {},
   "source": [
    "## Задание 1\n",
    "### Пункт 1.\n",
    "Пользователь по команде \"p\" может узнать владельца документа по его номеру\n",
    "Примеры работы:\n",
    "\n",
    "1.\n",
    "\n",
    "Введите команду:\n",
    "p\n",
    "\n",
    "Введите номер документа:\n",
    "10006\n",
    "Результат:\n",
    "Владелец документа: Аристарх Павлов\n",
    "\n",
    "2.\n",
    "\n",
    "Введите команду:\n",
    "p\n",
    "\n",
    "Введите номер документа:\n",
    "12345\n",
    "Результат:\n",
    "Документ не найден в базе"
   ]
  },
  {
   "cell_type": "code",
   "execution_count": 198,
   "id": "096bcb58",
   "metadata": {},
   "outputs": [],
   "source": [
    "def doc_num():\n",
    "    doc_num = input('Введите номер документа: ')\n",
    "    return doc_num"
   ]
  },
  {
   "cell_type": "code",
   "execution_count": 226,
   "id": "81c22668",
   "metadata": {},
   "outputs": [
    {
     "name": "stdout",
     "output_type": "stream",
     "text": [
      "Введите номер документа: 10006\n"
     ]
    },
    {
     "data": {
      "text/plain": [
       "'10006'"
      ]
     },
     "execution_count": 226,
     "metadata": {},
     "output_type": "execute_result"
    }
   ],
   "source": [
    "doc_num()"
   ]
  },
  {
   "cell_type": "code",
   "execution_count": 199,
   "id": "d6775735",
   "metadata": {},
   "outputs": [],
   "source": [
    "def number_doc(doc_):\n",
    "    \n",
    "    list_doc = []\n",
    "    for doc_l in doc_:\n",
    "        if doc_l['number'] not in list_doc:\n",
    "            list_doc.append(doc_l['number'])\n",
    "    \n",
    "    user_input_1 = doc_num()\n",
    "    \n",
    "    if user_input_1 not in list_doc:\n",
    "        print('Документ не найден в базе')\n",
    "        \n",
    "    for doc in doc_:\n",
    "        if doc['number'] == user_input_1:\n",
    "            print(f'Владелец документа: {doc[\"name\"]}') "
   ]
  },
  {
   "cell_type": "code",
   "execution_count": 229,
   "id": "839189e3",
   "metadata": {},
   "outputs": [
    {
     "name": "stdout",
     "output_type": "stream",
     "text": [
      "Введите номер документа: 123\n",
      "Документ не найден в базе\n"
     ]
    }
   ],
   "source": [
    "number_doc(documents)"
   ]
  },
  {
   "cell_type": "markdown",
   "id": "061cea7a",
   "metadata": {},
   "source": [
    "### Пункт 2.\n",
    "Пользователь по команде \"s\" может по номеру документа узнать на какой полке он хранится\n",
    "Примеры работы:\n",
    "\n",
    "1.\n",
    "\n",
    "Введите команду:\n",
    "s\n",
    "\n",
    "Введите номер документа:\n",
    "10006\n",
    "\n",
    "Результат:\n",
    "Документ хранится на полке: 2\n",
    "\n",
    "2.\n",
    "\n",
    "Введите команду:\n",
    "s\n",
    "\n",
    "Введите номер документа:\n",
    "12345\n",
    "\n",
    "Результат:\n",
    "Документ не найден в базе"
   ]
  },
  {
   "cell_type": "code",
   "execution_count": 200,
   "id": "5d43e879",
   "metadata": {},
   "outputs": [],
   "source": [
    "def doc_shelf(dir_):\n",
    "    user_input_3 = doc_num()\n",
    "    i = 0    \n",
    "    for direct, num in dir_.items():        \n",
    "        if user_input_3 in num:\n",
    "             print(f'Документ хранится на полке: {direct}')\n",
    "        else:\n",
    "            i += 1 \n",
    "    if i == len(dir_):\n",
    "        print('Документ не найден в базе')"
   ]
  },
  {
   "cell_type": "code",
   "execution_count": 233,
   "id": "f5710593",
   "metadata": {},
   "outputs": [
    {
     "name": "stdout",
     "output_type": "stream",
     "text": [
      "Введите номер документа: 123\n",
      "Документ не найден в базе\n"
     ]
    }
   ],
   "source": [
    "doc_shelf(directories)"
   ]
  },
  {
   "cell_type": "markdown",
   "id": "5e583816",
   "metadata": {},
   "source": [
    "## Пункт 3.\n",
    "Пользователь по команде \"l\" может увидеть полную информацию по всем документам\n",
    "Пример работы:\n",
    "\n",
    "Введите команду:\n",
    "l\n",
    "Результат:\n",
    "\n",
    "№: 2207 876234, тип: passport, владелец: Василий Гупкин, полка хранения: 1\n",
    "\n",
    "№: 11-2, тип: invoice, владелец: Геннадий Покемонов, полка хранения: 1\n",
    "\n",
    "№: 10006, тип: insurance, владелец: Аристарх Павлов, полка хранения: 2"
   ]
  },
  {
   "cell_type": "code",
   "execution_count": 201,
   "id": "25c7a053",
   "metadata": {},
   "outputs": [],
   "source": [
    "def all_info(doc_, dir_):\n",
    "    for i in doc_:\n",
    "        for t, m in dir_.items():\n",
    "            if i['number'] in m:\n",
    "#            print (t)\n",
    "                print(f\"№: {i['number']}, тип: {i['type']}, владелец: {i['name']}, полка хранения: {t}\")"
   ]
  },
  {
   "cell_type": "code",
   "execution_count": 235,
   "id": "2cfeb5a3",
   "metadata": {},
   "outputs": [
    {
     "name": "stdout",
     "output_type": "stream",
     "text": [
      "№: 2207 876234, тип: passport, владелец: Василий Гупкин, полка хранения: 1\n",
      "№: 11-2, тип: invoice, владелец: Геннадий Покемонов, полка хранения: 1\n",
      "№: 10006, тип: insurance, владелец: Аристарх Павлов, полка хранения: 2\n"
     ]
    }
   ],
   "source": [
    "all_info(documents, directories)"
   ]
  },
  {
   "cell_type": "markdown",
   "id": "1911c6e2",
   "metadata": {},
   "source": [
    "## Пункт 4. \n",
    "Пользователь по команде \"ads\" может добавить новую полку\n",
    "\n",
    "Примеры работы:\n",
    "\n",
    "1.\n",
    "\n",
    "Введите команду:\n",
    "ads\n",
    "\n",
    "Введите номер полки:\n",
    "10\n",
    "\n",
    "Результат:\n",
    "Полка добавлена. Текущий перечень полок: 1, 2, 3, 10.\n",
    "\n",
    "2.\n",
    "\n",
    "Введите команду:\n",
    "ads\n",
    "\n",
    "Введите номер полки:\n",
    "1\n",
    "\n",
    "Результат:\n",
    "Такая полка уже существует. Текущий перечень полок: 1, 2, 3."
   ]
  },
  {
   "cell_type": "code",
   "execution_count": 202,
   "id": "10a2f460",
   "metadata": {},
   "outputs": [],
   "source": [
    "def num_shelf():\n",
    "    num_shelf = input('Введите номер полки:')\n",
    "    return num_shelf"
   ]
  },
  {
   "cell_type": "code",
   "execution_count": 2,
   "id": "4e97548e",
   "metadata": {},
   "outputs": [
    {
     "name": "stdout",
     "output_type": "stream",
     "text": [
      "Введите номер полки:5\n"
     ]
    },
    {
     "data": {
      "text/plain": [
       "'5'"
      ]
     },
     "execution_count": 2,
     "metadata": {},
     "output_type": "execute_result"
    }
   ],
   "source": [
    "num_shelf()"
   ]
  },
  {
   "cell_type": "code",
   "execution_count": 203,
   "id": "5b54f50a",
   "metadata": {},
   "outputs": [],
   "source": [
    "def add_shelf(dir_):\n",
    "    user_input_2 = num_shelf()\n",
    "    if user_input_2 in dir_:\n",
    "        print('Такая полка уже существует. Текущий перечень полок: ' + \", \".join(map(str,dir_.keys())))\n",
    "    else:\n",
    "        dir_[user_input_2] = []\n",
    "        print('Полка добавлена. Текущий перечень полок: ' + \", \".join(map(str,dir_.keys()))) \n"
   ]
  },
  {
   "cell_type": "code",
   "execution_count": 124,
   "id": "fe53d268",
   "metadata": {},
   "outputs": [
    {
     "name": "stdout",
     "output_type": "stream",
     "text": [
      "Введите номер полки:3\n",
      "Такая полка уже существует. Текущий перечень полок: 1, 2, 3\n"
     ]
    }
   ],
   "source": [
    "add_shelf(directories)"
   ]
  },
  {
   "cell_type": "markdown",
   "id": "c022ca33",
   "metadata": {},
   "source": [
    "## Пункт 5. \n",
    "Пользователь по команде \"ds\" может удалить существующую полку из данных (только если она пустая)\n",
    "\n",
    "Примеры работы:\n",
    "\n",
    "1.\n",
    "\n",
    "Введите команду:\n",
    "ds\n",
    "\n",
    "Введите номер полки:\n",
    "3\n",
    "\n",
    "Результат:\n",
    "Полка удалена. Текущий перечень полок: 1, 2.\n",
    "\n",
    "2.\n",
    "\n",
    "Введите команду:\n",
    "ds\n",
    "\n",
    "Введите номер полки:\n",
    "1\n",
    "\n",
    "Результат:\n",
    "На полке есть документа, удалите их перед удалением полки. Текущий перечень полок: 1, 2, 3.\n",
    "\n",
    "3.\n",
    "\n",
    "Введите команду:\n",
    "ds\n",
    "\n",
    "Введите номер полки:\n",
    "4\n",
    "\n",
    "Результат:\n",
    "Такой полки не существует. Текущий перечень полок: 1, 2, 3."
   ]
  },
  {
   "cell_type": "code",
   "execution_count": 204,
   "id": "ccf7147b",
   "metadata": {},
   "outputs": [],
   "source": [
    "def del_shelf(dir_):\n",
    "    user_input_3 = num_shelf()\n",
    "    if user_input_3 in dir_:\n",
    "        if dir_[user_input_3] == []:\n",
    "            del(dir_[user_input_3])\n",
    "            print('Полка удалена. Текущий перечень полок: ' + \", \".join(map(str,dir_.keys())))\n",
    "        else:\n",
    "            print('На полке есть документа, удалите их перед удалением полки. Текущий перечень полок: ' + \", \".join(map(str,dir_.keys())))\n",
    "    else:\n",
    "        print('Такой полки не существует. Текущий перечень полок: ' + \", \".join(map(str,dir_.keys())))"
   ]
  },
  {
   "cell_type": "code",
   "execution_count": 70,
   "id": "35fd79c5",
   "metadata": {},
   "outputs": [
    {
     "name": "stdout",
     "output_type": "stream",
     "text": [
      "Введите номер полки:10\n",
      "Такой полки не существует. Текущий перечень полок: 1, 2, 3\n"
     ]
    }
   ],
   "source": [
    "del_shelf(directories)"
   ]
  },
  {
   "cell_type": "markdown",
   "id": "0933753c",
   "metadata": {},
   "source": [
    "# Задание 2 (необязательное)\n",
    "Вам необходимо дополнить программу из задания 1 более продвинутыми командами.\n",
    "\n",
    "## Пункт 1. \n",
    "Пользователь по команде \"ad\" может добавить новый документ в данные\n",
    "Примеры работы:\n",
    "\n",
    "1.\n",
    "\n",
    "Введите команду:\n",
    "ad\n",
    "\n",
    "Введите номер документа:\n",
    "42\n",
    "\n",
    "Введите тип документа:\n",
    "multipassport\n",
    "\n",
    "Введите владельца документа:\n",
    "R2D2\n",
    "\n",
    "Введите полку для хранения:\n",
    "3\n",
    "\n",
    "Результат:\n",
    "\n",
    "Документ добавлен. Текущий список документов:\n",
    "№: 2207 876234, тип: passport, владелец: Василий Гупкин, полка хранения: 1\n",
    "№: 11-2, тип: invoice, владелец: Геннадий Покемонов, полка хранения: 1\n",
    "№: 10006, тип: insurance, владелец: Аристарх Павлов, полка хранения: 2\n",
    "№: 42, тип: multipassport, владелец: R2D2, полка хранения: 3\n",
    "2.\n",
    "\n",
    "Введите команду:\n",
    "ad\n",
    "\n",
    "Введите номер документа:\n",
    "42\n",
    "\n",
    "Введите тип документа:\n",
    "multipassport\n",
    "\n",
    "Введите владельца документа:\n",
    "R2D2\n",
    "\n",
    "Введите полку для хранения:\n",
    "4\n",
    "\n",
    "Результат:\n",
    "\n",
    "Такой полки не существует. Добавьте полку командой as. \n",
    "Текущий список документов:\n",
    "№: 2207 876234, тип: passport, владелец: Василий Гупкин, полка хранения: 1\n",
    "№: 11-2, тип: invoice, владелец: Геннадий Покемонов, полка хранения: 1\n",
    "№: 10006, тип: insurance, владелец: Аристарх Павлов, полка хранения: 2"
   ]
  },
  {
   "cell_type": "code",
   "execution_count": 300,
   "id": "593f27e8",
   "metadata": {},
   "outputs": [],
   "source": [
    "def add_doc(doc_, dir_):\n",
    "    doc_num_ = doc_num()\n",
    "    doc_type = input('Введите тип документа: ')\n",
    "    doc_name = input('Введите владельца документа: ')\n",
    "    num_shelf_ = num_shelf()\n",
    "    if num_shelf_ in dir_:\n",
    "        documents.append({'type': doc_type, 'number': doc_num_, 'name': doc_name})\n",
    "        for keys, list_ in dir_.items():\n",
    "            if keys == num_shelf_:\n",
    "                list_.append(doc_num_)\n",
    "        print('Документ добавлен. Текущий список документов: ')\n",
    "        all_info(doc_, dir_)\n",
    "    else:\n",
    "        print('Такой полки не существует. Добавьте полку командой as.', 'Текущий список документов: ', sep = \"\\n\")\n",
    "        all_info(doc_, dir_)\n",
    "#    print(doc_)\n",
    "#    print(dir_)\n",
    "    \n"
   ]
  },
  {
   "cell_type": "code",
   "execution_count": 301,
   "id": "180758b3",
   "metadata": {},
   "outputs": [
    {
     "name": "stdout",
     "output_type": "stream",
     "text": [
      "Введите номер документа: 123\n",
      "Введите тип документа: 12\n",
      "Введите владельца документа: 1\n",
      "Введите номер полки:1\n",
      "Документ добавлен. Текущий список документов: \n",
      "№: 2207 876234, тип: passport, владелец: Василий Гупкин, полка хранения: 1\n",
      "№: 11-2, тип: invoice, владелец: Геннадий Покемонов, полка хранения: 1\n",
      "№: 123, тип: 12, владелец: 1, полка хранения: 1\n"
     ]
    }
   ],
   "source": [
    "add_doc(documents, directories)"
   ]
  },
  {
   "cell_type": "markdown",
   "id": "5743fe19",
   "metadata": {},
   "source": [
    "## Пункт 2. \n",
    "Пользователь по команде \"d\" может удалить документ из данных\n",
    "\n",
    "Примеры работы:\n",
    "\n",
    "1.\n",
    "\n",
    "Введите команду:\n",
    "d\n",
    "\n",
    "Введите номер документа:\n",
    "10006\n",
    "\n",
    "Результат:\n",
    "\n",
    "Документ удален. \n",
    "\n",
    "Текущий список документов:\n",
    "\n",
    "№: 2207 876234, тип: passport, владелец: Василий Гупкин, полка хранения: 1\n",
    "№: 11-2, тип: invoice, владелец: Геннадий Покемонов, полка хранения: 1\n",
    "\n",
    "2.\n",
    "\n",
    "Введите команду:\n",
    "d\n",
    "\n",
    "Введите номер документа:\n",
    "123456\n",
    "\n",
    "Результат:\n",
    "\n",
    "Документ не найден в базе. \n",
    "\n",
    "Текущий список документов:\n",
    "\n",
    "№: 2207 876234, тип: passport, владелец: Василий Гупкин, полка хранения: 1\n",
    "№: 11-2, тип: invoice, владелец: Геннадий Покемонов, полка хранения: 1\n",
    "№: 10006, тип: insurance, владелец: Аристарх Павлов, полка хранения: 2"
   ]
  },
  {
   "cell_type": "code",
   "execution_count": 222,
   "id": "eb838761",
   "metadata": {},
   "outputs": [],
   "source": [
    "def del_doc(doc_, dir_):\n",
    "    doc_num_ = doc_num()\n",
    "    x = 0\n",
    "    for num_ in doc_:\n",
    "#        x = 0\n",
    "        if doc_num_ == num_['number']:\n",
    "        \n",
    "            for num in doc_:\n",
    "                if doc_num_ == num['number']:\n",
    "                    del(doc_[doc_.index(num)])\n",
    "\n",
    "            for shelf in dir_.values():\n",
    "                if doc_num_ in shelf:\n",
    "                    shelf.remove(doc_num_)\n",
    "            print('Документ удален.', 'Текущий список документов:', sep = \"\\n\") \n",
    "            all_info(doc_, dir_)\n",
    "        else:\n",
    "            x += 1\n",
    "#    print (x)\n",
    "    if x == len(doc_):\n",
    "        print('Документ не найден в базе.', 'Текущий список документов:', sep = \"\\n\")\n",
    "        all_info(doc_, dir_)"
   ]
  },
  {
   "cell_type": "code",
   "execution_count": 223,
   "id": "c96b595b",
   "metadata": {},
   "outputs": [
    {
     "name": "stdout",
     "output_type": "stream",
     "text": [
      "Введите номер документа: 123\n",
      "Документ не найден в базе.\n",
      "Текущий список документов:\n",
      "№: 2207 876234, тип: passport, владелец: Василий Гупкин, полка хранения: 1\n",
      "№: 11-2, тип: invoice, владелец: Геннадий Покемонов, полка хранения: 1\n",
      "№: 10006, тип: insurance, владелец: Аристарх Павлов, полка хранения: 2\n"
     ]
    }
   ],
   "source": [
    "del_doc(documents, directories)"
   ]
  },
  {
   "cell_type": "markdown",
   "id": "a5d4d4f5",
   "metadata": {},
   "source": [
    "## Пункт 3. \n",
    "Пользователь по команде \"m\" может переместить документ с полки на полку\n",
    "Примеры работы:\n",
    "\n",
    "1.\n",
    "\n",
    "Введите команду:\n",
    "m\n",
    "\n",
    "Введите номер документа:\n",
    "11-2\n",
    "\n",
    "Введите номер полки:\n",
    "3\n",
    "\n",
    "Результат:\n",
    "\n",
    "Документ перемещен.\n",
    "\n",
    "Текущий список документов:\n",
    "\n",
    "№: 2207 876234, тип: passport, владелец: Василий Гупкин, полка хранения: 1\n",
    "№: 11-2, тип: invoice, владелец: Геннадий Покемонов, полка хранения: 3\n",
    "№: 10006, тип: insurance, владелец: Аристарх Павлов, полка хранения: 2\n",
    "\n",
    "2.\n",
    "\n",
    "Введите команду:\n",
    "m\n",
    "\n",
    "Введите номер документа:\n",
    "11-2\n",
    "\n",
    "Введите номер полки:\n",
    "10\n",
    "\n",
    "Результат:\n",
    "Такой полки не существует. Текущий перечень полок: 1, 2, 3.\n",
    "\n",
    "3.\n",
    "\n",
    "Введите команду:\n",
    "m\n",
    "\n",
    "Введите номер документа:\n",
    "42\n",
    "\n",
    "Введите номер полки:\n",
    "2\n",
    "\n",
    "Результат:\n",
    "\n",
    "Документ не найден в базе. \n",
    "\n",
    "Текущий список документов:\n",
    "\n",
    "№: 2207 876234, тип: passport, владелец: Василий Гупкин, полка хранения: 1\n",
    "№: 11-2, тип: invoice, владелец: Геннадий Покемонов, полка хранения: 1\n",
    "№: 10006, тип: insurance, владелец: Аристарх Павлов, полка хранения: 2"
   ]
  },
  {
   "cell_type": "code",
   "execution_count": 342,
   "id": "41299e49",
   "metadata": {},
   "outputs": [],
   "source": [
    "def move_doc(doc_, dir_):\n",
    "    \n",
    "    doc_num_ = doc_num()\n",
    "    num_shelf_ = num_shelf()\n",
    "    \n",
    "    x = 0\n",
    "    y = 0\n",
    "\n",
    "    for num in doc_:\n",
    "        if doc_num_ == num['number']:\n",
    "            if num_shelf_ in dir_:\n",
    "                for key_, list_ in dir_.items():\n",
    "                    if key_ == num_shelf_:\n",
    "                        list_.append(doc_num_)\n",
    "                    elif doc_num_ in list_:\n",
    "                        list_.remove(doc_num_)      \n",
    "                print('Документ перемещен.', 'Текущий список документов:', sep = \"\\n\")\n",
    "                all_info(doc_, dir_)\n",
    "            else:\n",
    "                print('Такой полки не существует. Текущий перечень полок:' + \", \".join(map(str,dir_.keys())))        \n",
    "        else:\n",
    "            y += 1\n",
    "    if y == len(doc_):\n",
    "        print('Документ не найден в базе.', 'Текущий список документов:', sep = \"\\n\")\n",
    "        all_info(doc_, dir_)\n"
   ]
  },
  {
   "cell_type": "code",
   "execution_count": null,
   "id": "4a4db21e",
   "metadata": {},
   "outputs": [],
   "source": []
  },
  {
   "cell_type": "code",
   "execution_count": 257,
   "id": "5368961c",
   "metadata": {},
   "outputs": [],
   "source": [
    "def main(doc_, dir_):\n",
    "    while True:\n",
    "        user_input = input('Введите команду: ')\n",
    "        if user_input == 'p':\n",
    "            number_doc(doc_)\n",
    "        elif user_input == 's':\n",
    "            doc_shelf(dir_)\n",
    "        elif user_input == 'l':\n",
    "            all_info(doc_, dir_)\n",
    "        elif user_input == 'ads':\n",
    "            add_shelf(dir_)\n",
    "        elif user_input == 'ds':\n",
    "            del_shelf(dir_)\n",
    "        elif user_input == 'ad':\n",
    "            add_doc(doc_, dir_)\n",
    "        elif user_input == 'd':\n",
    "            del_doc(doc_, dir_)\n",
    "        elif user_input == 'm':\n",
    "            move_doc(doc_, dir_)\n",
    "        elif user_input == 'q':\n",
    "            print('До свидания')\n",
    "            break \n",
    "                         \n",
    "            "
   ]
  },
  {
   "cell_type": "code",
   "execution_count": 343,
   "id": "f075e966",
   "metadata": {},
   "outputs": [
    {
     "name": "stdout",
     "output_type": "stream",
     "text": [
      "Введите команду: m\n",
      "Введите номер документа: 10006\n",
      "Введите номер полки:10\n",
      "Такой полки не существует. Текущий перечень полок:1, 2, 3\n",
      "Введите команду: m\n",
      "Введите номер документа: 10006\n",
      "Введите номер полки:3\n",
      "Документ перемещен.\n",
      "Текущий список документов:\n",
      "№: 2207 876234, тип: passport, владелец: Василий Гупкин, полка хранения: 1\n",
      "№: 11-2, тип: invoice, владелец: Геннадий Покемонов, полка хранения: 1\n",
      "№: 10006, тип: insurance, владелец: Аристарх Павлов, полка хранения: 3\n",
      "Введите команду: m\n",
      "Введите номер документа: 10006\n",
      "Введите номер полки:2\n",
      "Документ перемещен.\n",
      "Текущий список документов:\n",
      "№: 2207 876234, тип: passport, владелец: Василий Гупкин, полка хранения: 1\n",
      "№: 11-2, тип: invoice, владелец: Геннадий Покемонов, полка хранения: 1\n",
      "№: 10006, тип: insurance, владелец: Аристарх Павлов, полка хранения: 2\n",
      "Введите команду: m\n",
      "Введите номер документа: 123\n",
      "Введите номер полки:1\n",
      "Документ не найден в базе.\n",
      "Текущий список документов:\n",
      "№: 2207 876234, тип: passport, владелец: Василий Гупкин, полка хранения: 1\n",
      "№: 11-2, тип: invoice, владелец: Геннадий Покемонов, полка хранения: 1\n",
      "№: 10006, тип: insurance, владелец: Аристарх Павлов, полка хранения: 2\n",
      "Введите команду: q\n",
      "До свидания\n"
     ]
    }
   ],
   "source": [
    "main(documents, directories)"
   ]
  },
  {
   "cell_type": "code",
   "execution_count": null,
   "id": "db02e2a7",
   "metadata": {},
   "outputs": [],
   "source": []
  }
 ],
 "metadata": {
  "kernelspec": {
   "display_name": "Python 3 (ipykernel)",
   "language": "python",
   "name": "python3"
  },
  "language_info": {
   "codemirror_mode": {
    "name": "ipython",
    "version": 3
   },
   "file_extension": ".py",
   "mimetype": "text/x-python",
   "name": "python",
   "nbconvert_exporter": "python",
   "pygments_lexer": "ipython3",
   "version": "3.9.7"
  }
 },
 "nbformat": 4,
 "nbformat_minor": 5
}
