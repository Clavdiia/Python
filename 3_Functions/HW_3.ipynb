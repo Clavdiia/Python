{
 "cells": [
  {
   "cell_type": "markdown",
   "id": "da761a07",
   "metadata": {},
   "source": [
    "# Home work 1"
   ]
  },
  {
   "cell_type": "markdown",
   "id": "feebef61",
   "metadata": {},
   "source": [
    "## Задание 1\n",
    "Дана переменная, в которой хранится слово из латинских букв. Напишите код, который выводит на экран:\n",
    "\n",
    "среднюю букву, если число букв в слове нечетное;\n",
    "\n",
    "две средних буквы, если число букв четное.\n",
    "\n",
    "Примеры работы программы:\n",
    "\n",
    "word = 'test'\n",
    "\n",
    "Результат:\n",
    "es\n",
    "\n",
    "word = 'testing'\n",
    "\n",
    "Результат:\n",
    "t"
   ]
  },
  {
   "cell_type": "code",
   "execution_count": 21,
   "id": "777fe127",
   "metadata": {},
   "outputs": [
    {
     "name": "stdout",
     "output_type": "stream",
     "text": [
      "es\n"
     ]
    }
   ],
   "source": [
    "my_string = 'test'\n",
    "n = len (my_string)\n",
    "if n % 2 == 0:\n",
    "    print (my_string[int (n/2-1):int (n/2+1)])\n",
    "else:\n",
    "    print (my_string[n//2])\n"
   ]
  },
  {
   "cell_type": "markdown",
   "id": "be7acb24",
   "metadata": {},
   "source": [
    "## Задание 2\n",
    "Напишите программу, которая последовательно запрашивает у пользователя числа (по одному за раз) и после первого нуля выводит сумму всех ранее введенных чисел.\n",
    "\n",
    "Примеры работы программы:\n",
    "\n",
    "Введите число:  \n",
    "1\n",
    "\n",
    "Введите число:  \n",
    "4\n",
    "\n",
    "Введите число:  \n",
    "6\n",
    "\n",
    "Введите число:  \n",
    "0\n",
    "\n",
    "Результат:\n",
    "11\n",
    "\n",
    "Введите число:  \n",
    "0\n",
    "\n",
    "Результат:\n",
    "0"
   ]
  },
  {
   "cell_type": "code",
   "execution_count": 6,
   "id": "442c5437",
   "metadata": {},
   "outputs": [
    {
     "name": "stdout",
     "output_type": "stream",
     "text": [
      "Введите число: 5\n",
      "Введите число: 6\n",
      "Введите число: 8\n",
      "Введите число: 0\n",
      "19\n"
     ]
    }
   ],
   "source": [
    "x = int(input('Введите число: '))\n",
    "y = x\n",
    "while x !=0:\n",
    "    x = int(input('Введите число: '))\n",
    "    y += x\n",
    "print (y)\n",
    "\n",
    "    "
   ]
  },
  {
   "cell_type": "code",
   "execution_count": 41,
   "id": "e3e5f076",
   "metadata": {},
   "outputs": [
    {
     "name": "stdout",
     "output_type": "stream",
     "text": [
      "Введите число: 0\n",
      "0\n"
     ]
    }
   ],
   "source": [
    "x = int(input('Введите число: '))\n",
    "y = x\n",
    "while x !=0:\n",
    "    x = int(input('Введите число: '))\n",
    "    y += x\n",
    "print (y)\n",
    "\n",
    "    "
   ]
  },
  {
   "cell_type": "markdown",
   "id": "b73ef2f9",
   "metadata": {},
   "source": [
    "## Задание 3\n",
    "Мы делаем MVP dating-сервиса, и у нас есть список парней и девушек.\n",
    "Выдвигаем гипотезу: лучшие рекомендации мы получим, если просто отсортируем имена по алфавиту и познакомим людей с одинаковыми индексами после сортировки! Но мы не будем никого знакомить, если кто-то может остаться без пары:\n",
    "\n",
    "Примеры работы программы:\n",
    "\n",
    "boys = ['Peter', 'Alex', 'John', 'Arthur', 'Richard']\n",
    "\n",
    "girls = ['Kate', 'Liza', 'Kira', 'Emma', 'Trisha']\n",
    "\n",
    "Результат:\n",
    "\n",
    "Идеальные пары:\n",
    "\n",
    "Alex и Emma  \n",
    "\n",
    "Arthur и Kate  \n",
    "\n",
    "John и Kira\n",
    "\n",
    "Peter и Liza  \n",
    "\n",
    "Richard и Trisha\n",
    "\n",
    "boys = ['Peter', 'Alex', 'John', 'Arthur', 'Richard', 'Michael']\n",
    "\n",
    "girls = ['Kate', 'Liza', 'Kira', 'Emma', 'Trisha']\n",
    "\n",
    "Результат:\n",
    "Внимание, кто-то может остаться без пары!"
   ]
  },
  {
   "cell_type": "code",
   "execution_count": 28,
   "id": "b4bd0f5e",
   "metadata": {},
   "outputs": [
    {
     "name": "stdout",
     "output_type": "stream",
     "text": [
      "Идеальные пары:\n",
      "Alex и Emma\n",
      "Arthur и Kate\n",
      "John и Kira\n",
      "Peter и Liza\n",
      "Richard и Trisha\n"
     ]
    }
   ],
   "source": [
    "list_boys = ['Peter', 'Alex', 'John', 'Arthur', 'Richard']\n",
    "list_girls = ['Kate', 'Liza', 'Kira', 'Emma', 'Trisha']\n",
    "if len(list_boys) == len(list_girls):\n",
    "    sorted_boys = sorted(list_boys)\n",
    "    sorted_girls = sorted(list_girls)\n",
    "    perfect_couples = zip(sorted_boys, sorted_girls)\n",
    "    print ('Идеальные пары:')\n",
    "    for list_couples in perfect_couples:\n",
    "        print(f'{list_couples[0]} и {list_couples[1]}')\n",
    "else:\n",
    "    print(' Внимание, кто-то может остаться без пары!')"
   ]
  },
  {
   "cell_type": "code",
   "execution_count": 27,
   "id": "726a2307",
   "metadata": {},
   "outputs": [
    {
     "name": "stdout",
     "output_type": "stream",
     "text": [
      " Внимание, кто-то может остаться без пары!\n"
     ]
    }
   ],
   "source": [
    "list_boys = ['Peter', 'Alex', 'John', 'Arthur', 'Richard', 'Michael']\n",
    "list_girls = ['Kate', 'Liza', 'Kira', 'Emma', 'Trisha']\n",
    "if len(list_boys) == len(list_girls):\n",
    "    sorted_boys = sorted(list_boys)\n",
    "    sorted_girls = sorted(list_girls)\n",
    "    perfect_couples = zip(sorted_boys, sorted_girls)\n",
    "    print ('Идеальные пары:')\n",
    "    for list_couples in perfect_couples:\n",
    "        print(f'{list_couples[0]} и {list_couples[1]}')\n",
    "else:\n",
    "    print(' Внимание, кто-то может остаться без пары!')"
   ]
  },
  {
   "cell_type": "markdown",
   "id": "231bb57f",
   "metadata": {},
   "source": [
    "## Задание 4\n",
    "У нас есть список, содержащий информацию о среднедневной температуре в Фаренгейтах за произвольный период по странам (структура данных в примере). Необходимо написать код, который рассчитает среднюю температуру за период в Цельсиях(!) для каждой страны.\n",
    "\n",
    "Пример работы программы:\n",
    "\n",
    "countries_temperature = [\n",
    "    ['Thailand', [75.2, 77, 78.8, 73.4, 68, 75.2, 77]],\n",
    "    ['Germany', [57.2, 55.4, 59, 59, 53.6]],\n",
    "    ['Russia', [35.6, 37.4, 39.2, 41, 42.8, 39.2, 35.6]],\n",
    "    ['Poland', [50, 50, 53.6, 57.2, 55.4, 55.4]]\n",
    "]\n",
    "\n",
    "Результат:\n",
    "\n",
    "Средняя температура в странах:\n",
    "Thailand  -  23.9 С\n",
    "Germany  -  13.8 С\n",
    "Russia  -  3.7 С\n",
    "Poland  -  12.0 С"
   ]
  },
  {
   "cell_type": "code",
   "execution_count": 40,
   "id": "f19c3c5c",
   "metadata": {},
   "outputs": [
    {
     "name": "stdout",
     "output_type": "stream",
     "text": [
      "Thailand - 23.9 C Germany - 13.8 C Russia - 3.7 C Poland - 12.0 C "
     ]
    }
   ],
   "source": [
    "countries_temperature = [ ['Thailand', [75.2, 77, 78.8, 73.4, 68, 75.2, 77]], \n",
    "                         ['Germany', [57.2, 55.4, 59, 59, 53.6]], \n",
    "                         ['Russia', [35.6, 37.4, 39.2, 41, 42.8, 39.2, 35.6]], \n",
    "                         ['Poland', [50, 50, 53.6, 57.2, 55.4, 55.4]] ]\n",
    "for country, average in countries_temperature:\n",
    "    print(country, '-', round(((sum(average)/len(average)-32)*5/9), 1), 'C', end = ' ')"
   ]
  },
  {
   "cell_type": "markdown",
   "id": "35d8f7c3",
   "metadata": {},
   "source": [
    "## Задание 5 (необязательное)\n",
    "Дан поток логов по количеству просмотренных страниц для каждого пользователя. Вам необходимо написать алгоритм, который считает среднее значение просмотров на пользователя. Т. е. надо посчитать отношение суммы всех просмотров к количеству уникальных пользователей.\n",
    "\n",
    "Примеры работы программы:\n",
    "\n",
    "stream = [\n",
    "    '2018-01-01,user1,3',\n",
    "    '2018-01-07,user1,4',\n",
    "    '2018-03-29,user1,1',\n",
    "    '2018-04-04,user1,13',\n",
    "    '2018-01-05,user2,7',\n",
    "    '2018-06-14,user3,4',\n",
    "    '2018-07-02,user3,10',\n",
    "    '2018-03-21,user4,19',\n",
    "    '2018-03-22,user4,4',\n",
    "    '2018-04-22,user4,8',\n",
    "    '2018-05-03,user4,9',\n",
    "    '2018-05-11,user4,11',\n",
    "]\n",
    "Результат:\n",
    "Среднее количество просмотров на уникального пользователя: 23.25\n",
    "\n",
    "stream = [\n",
    "    '2018-01-01,user100,150',\n",
    "    '2018-01-07,user99,205',\n",
    "    '2018-03-29,user1001,81'\n",
    "]\n",
    "Результат:\n",
    "Среднее количество просмотров на уникального пользователя: 145.33"
   ]
  },
  {
   "cell_type": "code",
   "execution_count": 42,
   "id": "2173d759",
   "metadata": {},
   "outputs": [
    {
     "name": "stdout",
     "output_type": "stream",
     "text": [
      "145.33333333333334\n"
     ]
    }
   ],
   "source": [
    "x = (150+205+81)/3\n",
    "print (x)"
   ]
  },
  {
   "cell_type": "code",
   "execution_count": 201,
   "id": "783147f7",
   "metadata": {},
   "outputs": [
    {
     "name": "stdout",
     "output_type": "stream",
     "text": [
      "Среднее количество просмотров на уникального пользователя: 23.25\n"
     ]
    }
   ],
   "source": [
    "stream = [ '2018-01-01,user1,3',\n",
    "          '2018-01-07,user1,4',\n",
    "          '2018-03-29,user1,1',\n",
    "          '2018-04-04,user1,13',\n",
    "          '2018-01-05,user2,7',\n",
    "          '2018-06-14,user3,4',\n",
    "          '2018-07-02,user3,10',\n",
    "          '2018-03-21,user4,19',\n",
    "          '2018-03-22,user4,4',\n",
    "          '2018-04-22,user4,8',\n",
    "          '2018-05-03,user4,9',\n",
    "          '2018-05-11,user4,11', ] \n",
    "users = []\n",
    "viewes = 0\n",
    "\n",
    "for element in stream:\n",
    "    stream_1 = element.split(',')\n",
    "    viewes += int(stream_1[2])\n",
    "    if stream_1[1] not in users:\n",
    "        users.append(stream_1[1])\n",
    "print(f'Среднее количество просмотров на уникального пользователя: {viewes/len(users)}')\n"
   ]
  },
  {
   "cell_type": "code",
   "execution_count": 205,
   "id": "49d3bfb4",
   "metadata": {},
   "outputs": [
    {
     "name": "stdout",
     "output_type": "stream",
     "text": [
      "Среднее количество просмотров на уникального пользователя: 145.33\n"
     ]
    }
   ],
   "source": [
    "stream = [ '2018-01-01,user100,150', '2018-01-07,user99,205', '2018-03-29,user1001,81' ] \n",
    "\n",
    "\n",
    "users = []\n",
    "viewes = 0\n",
    "\n",
    "for element in stream:\n",
    "    stream_1 = element.split(',')\n",
    "    viewes += int(stream_1[2])\n",
    "    if stream_1[1] not in users:\n",
    "        users.append(stream_1[1])\n",
    "print(f'Среднее количество просмотров на уникального пользователя: {round(((viewes)/len(users)), 2)}')\n"
   ]
  },
  {
   "cell_type": "markdown",
   "id": "1d903f07",
   "metadata": {},
   "source": [
    "## Задание 6 (необязательное)\n",
    "Необходимо у пользователя запрашивать набор чисел разделенных пробелом. В результате в отсортированном порядке должны выводиться числа, которые повторяются в вводе более одного раза.\n",
    "\n",
    "Примеры работы программы:\n",
    "\n",
    "Введите числа:\n",
    "4 8 0 3 4 2 0 3\n",
    "\n",
    "Результат:\n",
    "0 3 4\n",
    "\n",
    "Введите числа:\n",
    "1 1 2 2 3 3\n",
    "\n",
    "Результат:\n",
    "1 2 3\n",
    "\n",
    "Введите числа:\n",
    "10 15 15 103 200 200 200 1 1 1 1 1 2 2 2\n",
    "\n",
    "Результат:\n",
    "1 2 15 200"
   ]
  },
  {
   "cell_type": "code",
   "execution_count": 64,
   "id": "1036a6fd",
   "metadata": {},
   "outputs": [
    {
     "name": "stdout",
     "output_type": "stream",
     "text": [
      "13\n"
     ]
    }
   ],
   "source": [
    "list = []\n",
    "x = int(input('Введите число: '))\n",
    "for i in list"
   ]
  },
  {
   "cell_type": "markdown",
   "id": "1f830161",
   "metadata": {},
   "source": [
    "## Задание 1\n",
    "Дана переменная, в которой хранится словарь, содержащий гео-метки для каждого пользователя (пример структуры данных приведен ниже). Вам необходимо написать программу, которая выведет на экран множество уникальных гео-меток всех пользователей.\n",
    "\n",
    "Пример работы программы:\n",
    "\n",
    "ids = {'user1': [213, 213, 213, 15, 213], \n",
    "       'user2': [54, 54, 119, 119, 119], \n",
    "       'user3': [213, 98, 98, 35]}\n",
    "       \n",
    "Результат: {98, 35, 15, 213, 54, 119}"
   ]
  },
  {
   "cell_type": "code",
   "execution_count": 234,
   "id": "e6c32c28",
   "metadata": {},
   "outputs": [
    {
     "name": "stdout",
     "output_type": "stream",
     "text": [
      "{98, 35, 15, 213, 54, 119}\n"
     ]
    }
   ],
   "source": [
    "ids = {'user1': [213, 213, 213, 15, 213], 'user2': [54, 54, 119, 119, 119], 'user3': [213, 98, 98, 35]}\n",
    "unique = set()\n",
    "for gps in ids.values():\n",
    "    for nob in gps:\n",
    "        if nob not in unique:\n",
    "            unique.add(nob)\n",
    "print(unique)"
   ]
  },
  {
   "cell_type": "markdown",
   "id": "efefbaa4",
   "metadata": {},
   "source": [
    "## Задание 2\n",
    "Дана переменная, в которой хранится список поисковых запросов пользователя (пример структуры данных приведен ниже). Вам необходимо написать программу, которая выведет на экран распределение количества слов в запросах в требуемом виде.\n",
    "\n",
    "Пример работы программы:\n",
    "\n",
    "queries = [\n",
    "    'смотреть сериалы онлайн',\n",
    "    'новости спорта',\n",
    "    'афиша кино',\n",
    "    'курс доллара',\n",
    "    'сериалы этим летом',\n",
    "    'курс по питону',\n",
    "    'сериалы про спорт',\n",
    "]\n",
    "\n",
    "Результат:\n",
    "\n",
    "Поисковых запросов, содержащих 2 слов(а): 42.86%\n",
    "\n",
    "Поисковых запросов, содержащих 3 слов(а): 57.14%"
   ]
  },
  {
   "cell_type": "code",
   "execution_count": 250,
   "id": "09e2acf3",
   "metadata": {},
   "outputs": [
    {
     "name": "stdout",
     "output_type": "stream",
     "text": [
      "Поисковых запросов, содержащих 3 слов(а): 57.14%\n",
      "Поисковых запросов, содержащих 2 слов(а): 42.86%\n"
     ]
    }
   ],
   "source": [
    "queries = [ 'смотреть сериалы онлайн',\n",
    "           'новости спорта',\n",
    "           'афиша кино',\n",
    "           'курс доллара',\n",
    "           'сериалы этим летом',\n",
    "           'курс по питону',\n",
    "           'сериалы про спорт', ]\n",
    "#len(queries)\n",
    "word = {}\n",
    "for request in queries:\n",
    "#    print(len(request.split()))\n",
    "    if len(request.split()) not in word:\n",
    "        word[len(request.split())] = 1\n",
    "    else:\n",
    "        word[len(request.split())] += 1\n",
    "for average in word:\n",
    "    print(f'Поисковых запросов, содержащих {average} слов(а): {round(word[average]/len(queries)*100, 2)}%')\n"
   ]
  },
  {
   "cell_type": "markdown",
   "id": "b09d3500",
   "metadata": {},
   "source": [
    "## Задание 3\n",
    "Дана переменная, в которой хранится информация о затратах и доходе рекламных кампаний по различным источникам. Необходимо дополнить исходную структуру показателем ROI, который рассчитаем по формуле: (revenue / cost - 1) * 100\n",
    "\n",
    "Пример работы программы:\n",
    "\n",
    "results = {\n",
    "    'vk': {'revenue': 103, 'cost': 98},\n",
    "    'yandex': {'revenue': 179, 'cost': 153},\n",
    "    'facebook': {'revenue': 103, 'cost': 110},\n",
    "    'adwords': {'revenue': 35, 'cost': 34},\n",
    "    'twitter': {'revenue': 11, 'cost': 24},\n",
    "}\n",
    "\n",
    "Результат:\n",
    "\n",
    "{'adwords': {'revenue': 35, 'cost': 34, 'ROI': 2.94},\n",
    " 'facebook': {'revenue': 103, 'cost': 110, 'ROI': -6.36},\n",
    " 'twitter': {'revenue': 11, 'cost': 24, 'ROI': -54.17},\n",
    " 'vk': {'revenue': 103, 'cost': 98, 'ROI': 5.1},\n",
    " 'yandex': {'revenue': 179, 'cost': 153, 'ROI': 16.99}}"
   ]
  },
  {
   "cell_type": "code",
   "execution_count": 263,
   "id": "640c7afb",
   "metadata": {},
   "outputs": [
    {
     "data": {
      "text/plain": [
       "{'vk': {'revenue': 103, 'cost': 98, 'ROI': 5.1},\n",
       " 'yandex': {'revenue': 179, 'cost': 153, 'ROI': 16.99},\n",
       " 'facebook': {'revenue': 103, 'cost': 110, 'ROI': -6.36},\n",
       " 'adwords': {'revenue': 35, 'cost': 34, 'ROI': 2.94},\n",
       " 'twitter': {'revenue': 11, 'cost': 24, 'ROI': -54.17}}"
      ]
     },
     "execution_count": 263,
     "metadata": {},
     "output_type": "execute_result"
    }
   ],
   "source": [
    "results = { 'vk': {'revenue': 103, 'cost': 98},\n",
    "           'yandex': {'revenue': 179, 'cost': 153},\n",
    "           'facebook': {'revenue': 103, 'cost': 110},\n",
    "           'adwords': {'revenue': 35, 'cost': 34},\n",
    "           'twitter': {'revenue': 11, 'cost': 24}, }\n",
    "\n",
    "for info in results.values():\n",
    "    info['ROI'] = round((info['revenue'] / info['cost']-1)*100, 2)\n",
    "results"
   ]
  },
  {
   "cell_type": "code",
   "execution_count": 268,
   "id": "36369404",
   "metadata": {},
   "outputs": [
    {
     "data": {
      "text/plain": [
       "{'vk': {'revenue': 103, 'cost': 98, 'ROI': 5.1},\n",
       " 'yandex': {'revenue': 179, 'cost': 153, 'ROI': 16.99},\n",
       " 'facebook': {'revenue': 103, 'cost': 110, 'ROI': -6.36},\n",
       " 'adwords': {'revenue': 35, 'cost': 34, 'ROI': 2.94},\n",
       " 'twitter': {'revenue': 11, 'cost': 24, 'ROI': -54.17}}"
      ]
     },
     "execution_count": 268,
     "metadata": {},
     "output_type": "execute_result"
    }
   ],
   "source": [
    "#{'ROI': round(((info['revenue'] / info['cost'])-1)*100, 2) for info in results.items()}\n",
    "{'ROI': round(((info['revenue'] / info['cost'])-1)*100, 2) for (source, info) in results.items()}\n",
    "results  "
   ]
  },
  {
   "cell_type": "markdown",
   "id": "c92303a6",
   "metadata": {},
   "source": [
    "## Задание 4\n",
    "Дана переменная, в которой хранится статистика рекламных каналов по объемам продаж (пример структуры данных приведен ниже). Напишите программу, которая возвращает название канала с максимальным объемом продаж.\n",
    "\n",
    "Пример работы программы:\n",
    "\n",
    "stats = {'facebook': 55, 'yandex': 115, 'vk': 120, 'google': 99, 'email': 42, 'ok': 98}\n",
    "\n",
    "Результат: Максимальный объем продаж на рекламном канале: vk"
   ]
  },
  {
   "cell_type": "code",
   "execution_count": 6,
   "id": "2bdc5292",
   "metadata": {},
   "outputs": [
    {
     "name": "stdout",
     "output_type": "stream",
     "text": [
      "Максимальный объем продаж на рекламном канале: vk\n"
     ]
    }
   ],
   "source": [
    "import operator\n",
    "stats = {'facebook': 55, 'yandex': 115, 'vk': 120, 'google': 99, 'email': 42, 'ok': 98}\n",
    "\n",
    "print(f'Максимальный объем продаж на рекламном канале: {max(stats.items(), key = operator.itemgetter(1))[0]}')\n",
    "       "
   ]
  },
  {
   "cell_type": "code",
   "execution_count": 7,
   "id": "d3591d60",
   "metadata": {},
   "outputs": [
    {
     "name": "stdout",
     "output_type": "stream",
     "text": [
      "Максимальный объем продаж на рекламном канале: vk\n"
     ]
    }
   ],
   "source": [
    "stats = {'facebook': 55, 'yandex': 115, 'vk': 120, 'google': 99, 'email': 42, 'ok': 98}\n",
    "print(f'Максимальный объем продаж на рекламном канале: {max(stats, key=stats.get)}')"
   ]
  },
  {
   "cell_type": "markdown",
   "id": "3e26d4c8",
   "metadata": {},
   "source": [
    "## Задание 5 (необязательно)\n",
    "Дан список произвольной длины. Необходимо написать код, который на основе исходного списка составит словарь такого уровня вложенности, какова длина исхондого списка.\n",
    "\n",
    "Примеры работы программы:\n",
    "\n",
    "my_list = ['2018-01-01', 'yandex', 'cpc', 100]\n",
    "\n",
    "Результат: {'2018-01-01': {'yandex': {'cpc': 100}}}\n",
    "\n",
    "my_list = ['a', 'b', 'c', 'd', 'e', 'f']\n",
    "\n",
    "Результат: {'a': {'b': {'c': {'d': {'e': 'f'}}}}}"
   ]
  },
  {
   "cell_type": "code",
   "execution_count": 18,
   "id": "5852a2ab",
   "metadata": {},
   "outputs": [
    {
     "data": {
      "text/plain": [
       "{'2018-01-01': 'yandex', 'yandex': 'yandex', 'cpc': 'yandex', 100: 'yandex'}"
      ]
     },
     "execution_count": 18,
     "metadata": {},
     "output_type": "execute_result"
    }
   ],
   "source": [
    "my_list = ['2018-01-01', 'yandex', 'cpc', 100]\n",
    "for i in my_list:\n",
    "    my_dictionary = dict.fromkeys(my_list,  dict.formkeys(my_list[1], my_list[1])\n",
    "my_dictionary    \n"
   ]
  },
  {
   "cell_type": "markdown",
   "id": "60b40a0d",
   "metadata": {},
   "source": [
    "## Задание 6 (необязательно)\n",
    "Дана книга рецептов с информацией о том, сколько ингредиентов нужно для приготовления блюда в расчете на одну порцию (пример данных представлен ниже).\n",
    "Напишите программу, которая будет запрашивать у пользователя количество порций для приготовления этих блюд и отображать информацию о суммарном количестве требуемых ингредиентов в указанном виде.\n",
    "Внимание! Одинаковые ингридиенты с разными размерностями нужно считать раздельно!\n",
    "Пример работы программы:\n",
    "\n",
    "cook_book = {\n",
    "  'салат': [\n",
    "     {'ingridient_name': 'сыр', 'quantity': 50, 'measure': 'гр'},\n",
    "     {'ingridient_name': 'томаты', 'quantity': 2, 'measure': 'шт'},\n",
    "     {'ingridient_name': 'огурцы', 'quantity': 20, 'measure': 'гр'},\n",
    "     {'ingridient_name': 'маслины', 'quantity': 10, 'measure': 'гр'},\n",
    "     {'ingridient_name': 'оливковое масло', 'quantity': 20, 'measure': 'мл'},\n",
    "     {'ingridient_name': 'салат', 'quantity': 10, 'measure': 'гр'},\n",
    "     {'ingridient_name': 'перец', 'quantity': 20, 'measure': 'гр'}\n",
    "    ],\n",
    "  'пицца': [\n",
    "     {'ingridient_name': 'сыр', 'quantity': 20, 'measure': 'гр'},\n",
    "     {'ingridient_name': 'колбаса', 'quantity': 30, 'measure': 'гр'},\n",
    "     {'ingridient_name': 'бекон', 'quantity': 30, 'measure': 'гр'},\n",
    "     {'ingridient_name': 'оливки', 'quantity': 10, 'measure': 'гр'},\n",
    "     {'ingridient_name': 'томаты', 'quantity': 20, 'measure': 'гр'},\n",
    "     {'ingridient_name': 'тесто', 'quantity': 100, 'measure': 'гр'},   \n",
    "    ],\n",
    "  'лимонад': [\n",
    "     {'ingridient_name': 'лимон', 'quantity': 1, 'measure': 'шт'},\n",
    "     {'ingridient_name': 'вода', 'quantity': 200, 'measure': 'мл'},\n",
    "     {'ingridient_name': 'сахар', 'quantity': 10, 'measure': 'гр'},\n",
    "     {'ingridient_name': 'лайм', 'quantity': 20, 'measure': 'гр'},    \n",
    "    ]\n",
    "}\n",
    "\n",
    "Введите количество порций:  \n",
    "3\n",
    "\n",
    "Результат:\n",
    "\n",
    "Сыр: 210 гр  \n",
    "Томаты: 6 шт  \n",
    "Огурцы: 60 гр  \n",
    "Маслины: 30 гр  \n",
    "Оливковое масло: 60 мл  \n",
    "Салат: 30 гр  \n",
    "Перец: 60 гр  \n",
    "Колбаса: 90 гр  \n",
    "Бекон: 90 гр  \n",
    "Оливки: 30 гр  \n",
    "Томаты: 60 гр  \n",
    "Тесто: 300 гр  \n",
    "Лимон: 3 шт  \n",
    "Вода: 600 мл  \n",
    "Сахар: 30 гр  \n",
    "Лайм: 60 гр"
   ]
  },
  {
   "cell_type": "code",
   "execution_count": 10,
   "id": "c716d258",
   "metadata": {},
   "outputs": [
    {
     "name": "stdout",
     "output_type": "stream",
     "text": [
      "Введите количество порций: 3\n",
      "Сыр: 210 гр\n",
      "Томаты: 6 шт\n",
      "Огурцы: 60 гр\n",
      "Маслины: 30 гр\n",
      "Оливковое масло: 60 мл\n",
      "Салат: 30 гр\n",
      "Перец: 60 гр\n",
      "Колбаса: 90 гр\n",
      "Бекон: 90 гр\n",
      "Оливки: 30 гр\n",
      "Томаты: 60 гр\n",
      "Тесто: 300 гр\n",
      "Лимон: 3 шт\n",
      "Вода: 600 мл\n",
      "Сахар: 30 гр\n",
      "Лайм: 60 гр\n"
     ]
    }
   ],
   "source": [
    "cook_book = { 'салат': [ {'ingridient_name': 'сыр', 'quantity': 50, 'measure': 'гр'},\n",
    "                        {'ingridient_name': 'томаты', 'quantity': 2, 'measure': 'шт'},\n",
    "                        {'ingridient_name': 'огурцы', 'quantity': 20, 'measure': 'гр'},\n",
    "                        {'ingridient_name': 'маслины', 'quantity': 10, 'measure': 'гр'},\n",
    "                        {'ingridient_name': 'оливковое масло', 'quantity': 20, 'measure': 'мл'},\n",
    "                        {'ingridient_name': 'салат', 'quantity': 10, 'measure': 'гр'},\n",
    "                        {'ingridient_name': 'перец', 'quantity': 20, 'measure': 'гр'} ],\n",
    "             'пицца': [ {'ingridient_name': 'сыр', 'quantity': 20, 'measure': 'гр'},\n",
    "                       {'ingridient_name': 'колбаса', 'quantity': 30, 'measure': 'гр'},\n",
    "                       {'ingridient_name': 'бекон', 'quantity': 30, 'measure': 'гр'},\n",
    "                       {'ingridient_name': 'оливки', 'quantity': 10, 'measure': 'гр'},\n",
    "                       {'ingridient_name': 'томаты', 'quantity': 20, 'measure': 'гр'},\n",
    "                       {'ingridient_name': 'тесто', 'quantity': 100, 'measure': 'гр'},],\n",
    "             'лимонад': [ {'ingridient_name': 'лимон', 'quantity': 1, 'measure': 'шт'},\n",
    "                         {'ingridient_name': 'вода', 'quantity': 200, 'measure': 'мл'},\n",
    "                         {'ingridient_name': 'сахар', 'quantity': 10, 'measure': 'гр'},\n",
    "                         {'ingridient_name': 'лайм', 'quantity': 20, 'measure': 'гр'},] }\n",
    "person = int(input('Введите количество порций: '))\n",
    "shoping_list = {}\n",
    "for dish in cook_book:\n",
    "#    print(dish)\n",
    "    for ingridient in cook_book[dish]:\n",
    "        new_cook_book = dict(ingridient)\n",
    "        new_cook_book['quantity'] = person * new_cook_book['quantity']\n",
    "        if new_cook_book['ingridient_name'] not in shoping_list:\n",
    "            shoping_list[new_cook_book['ingridient_name']] = new_cook_book \n",
    "        elif shoping_list[new_cook_book['ingridient_name']]['measure'] != new_cook_book['measure']:\n",
    "            shoping_list[new_cook_book['ingridient_name']+'new'] = new_cook_book \n",
    "        else:\n",
    "             shoping_list[new_cook_book['ingridient_name']]['quantity'] += new_cook_book['quantity'] \n",
    "#    print(shoping_list)\n",
    "for list in shoping_list.values():\n",
    "    print(f\"{list['ingridient_name'].capitalize()}: {list['quantity']} {list['measure']}\")"
   ]
  },
  {
   "cell_type": "code",
   "execution_count": 54,
   "id": "c2576e5e",
   "metadata": {},
   "outputs": [
    {
     "data": {
      "text/plain": [
       "True"
      ]
     },
     "execution_count": 54,
     "metadata": {},
     "output_type": "execute_result"
    }
   ],
   "source": [
    "x = 'kbcn'\n",
    "y = 'kbcn'\n",
    "x == y"
   ]
  },
  {
   "cell_type": "code",
   "execution_count": null,
   "id": "fcca2fa0",
   "metadata": {},
   "outputs": [],
   "source": []
  }
 ],
 "metadata": {
  "kernelspec": {
   "display_name": "Python 3 (ipykernel)",
   "language": "python",
   "name": "python3"
  },
  "language_info": {
   "codemirror_mode": {
    "name": "ipython",
    "version": 3
   },
   "file_extension": ".py",
   "mimetype": "text/x-python",
   "name": "python",
   "nbconvert_exporter": "python",
   "pygments_lexer": "ipython3",
   "version": "3.9.7"
  }
 },
 "nbformat": 4,
 "nbformat_minor": 5
}
