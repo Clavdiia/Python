{
 "cells": [
  {
   "cell_type": "markdown",
   "id": "889bf4a4",
   "metadata": {},
   "source": [
    "# Home work 1"
   ]
  },
  {
   "cell_type": "markdown",
   "id": "c54f95ed",
   "metadata": {},
   "source": [
    "## Задание 1\n",
    "Даны 2 переменных, в которых хранятся строки произвольной длины: phrase_1 и phrase_2.\n",
    "Напишите код, который проверяет какая из этих строк длиннее.\n",
    "\n",
    "Примеры работы программы:\n",
    "\n",
    "phrase_1 = 'Насколько проще было бы писать программы, если бы не заказчики'\n",
    "\n",
    "phrase_2 = '640Кб должно хватить для любых задач. Билл Гейтс (по легенде)'\n",
    "\n",
    "Результат:\n",
    "Фраза 1 длиннее фразы 2\n",
    "\n",
    "phrase_1 = '640Кб должно хватить для любых задач. Билл Гейтс (по легенде)'\n",
    "\n",
    "phrase_2 = 'Насколько проще было бы писать программы, если бы не заказчики'\n",
    "\n",
    "Результат:\n",
    "Фраза 2 длиннее фразы 1\n",
    "\n",
    "phrase_1 = 'Насколько проще было бы писать программы, если бы не заказчики'\n",
    "\n",
    "phrase_2 = 'Насколько проще было бы писать программы, если бы не заказчики'\n",
    "\n",
    "Результат:\n",
    "Фразы равной длины"
   ]
  },
  {
   "cell_type": "code",
   "execution_count": 8,
   "id": "0e3464fc",
   "metadata": {},
   "outputs": [
    {
     "name": "stdout",
     "output_type": "stream",
     "text": [
      "Фраза 1 длиннее фразы 2\n"
     ]
    }
   ],
   "source": [
    "phrase_1 = 'Насколько проще было бы писать программы, если бы не заказчики'\n",
    "phrase_2 = '640Кб должно хватить для любых задач. Билл Гейтс (по легенде)'\n",
    "if len (phrase_1) > len (phrase_2):\n",
    "    print ('Фраза 1 длиннее фразы 2')\n",
    "elif len (phrase_1) == len (phrase_2):\n",
    "    print (' Фразы равной длины')\n",
    "else: \n",
    "    print ('Фраза 2 длиннее фразы 1')"
   ]
  },
  {
   "cell_type": "code",
   "execution_count": 9,
   "id": "f634c096",
   "metadata": {},
   "outputs": [
    {
     "name": "stdout",
     "output_type": "stream",
     "text": [
      " Фразы равной длины\n"
     ]
    }
   ],
   "source": [
    "phrase_1 = 'Насколько проще было бы писать программы, если бы не заказчики'\n",
    "phrase_2 = 'Насколько проще было бы писать программы, если бы не заказчики'\n",
    "if len (phrase_1) > len (phrase_2):\n",
    "    print ('Фраза 1 длиннее фразы 2')\n",
    "elif len (phrase_1) == len (phrase_2):\n",
    "    print (' Фразы равной длины')\n",
    "else: \n",
    "    print ('Фраза 2 длиннее фразы 1')"
   ]
  },
  {
   "cell_type": "markdown",
   "id": "d701d5ee",
   "metadata": {},
   "source": [
    "## Задание 2\n",
    "Дана переменная, в которой хранится число (год). Необходимо написать программу, которая выведет, является ли данный год високосным или обычным.\n",
    "\n",
    "Пример работы программы:\n",
    "\n",
    "year = 2020\n",
    "Результат:\n",
    "Високосный год\n",
    "\n",
    "year = 2019\n",
    "Результат:\n",
    "Обычный год"
   ]
  },
  {
   "cell_type": "code",
   "execution_count": 13,
   "id": "2cb60712",
   "metadata": {},
   "outputs": [
    {
     "name": "stdout",
     "output_type": "stream",
     "text": [
      "year = 2020\n",
      "Високосный год\n"
     ]
    }
   ],
   "source": [
    "x = int(input('year = '))\n",
    "if x % 4 == 0 and x % 100 != 0:\n",
    "    print('Високосный год')\n",
    "elif x % 400 == 0:\n",
    "    print('Високосный год')\n",
    "else:\n",
    "    print('Обычный год')"
   ]
  },
  {
   "cell_type": "markdown",
   "id": "e75e1f7f",
   "metadata": {},
   "source": [
    "## Задание 3\n",
    "Необходимо написать программу, которая будет запрашивать у пользователя месяц и дату рождения и выводить соответствующий знак зодиака.\n",
    "\n",
    "Пример работы программы:\n",
    "\n",
    "Введите день:\n",
    "30\n",
    "\n",
    "Введите месяц:\n",
    "Август\n",
    "\n",
    "Результат:\n",
    "Ваш знак зодиака: Дева\n",
    "\n",
    "Введите день:\n",
    "29\n",
    "\n",
    "Введите месяц:\n",
    "Октябрь\n",
    "\n",
    "Результат:\n",
    "Ваш знак зодиака: Скорпион"
   ]
  },
  {
   "cell_type": "code",
   "execution_count": 14,
   "id": "722c0dbf",
   "metadata": {},
   "outputs": [
    {
     "name": "stdout",
     "output_type": "stream",
     "text": [
      "Введите день: 5\n",
      "Введите месяц: май\n",
      "Телец\n"
     ]
    }
   ],
   "source": [
    "day = int(input('Введите день: '))\n",
    "month = str(input('Введите месяц: '))\n",
    "if 21 <= day <= 31 and (month == 'Март' or month == 'март' or month == 'March' or month == 'march') or 1 <= day <= 19 and (month == 'Апрель' or month == 'апрель' or month == 'April' or month == 'april') :\n",
    "    print(\"Овен\")\n",
    "elif 1 <= day <= 20 and (month == 'Май' or month == 'май' or month == 'May' or month == 'may') or 20 <= day <= 30 and (month == 'Апрель' or month == 'апрель' or month == 'April' or month == 'april') :\n",
    "    print(\"Телец\")\n",
    "elif 21 <= day <= 31 and (month == 'Май' or month == 'май' or month == 'May' or month == 'may') or 1 <= day <= 20 and (month == 'Июнь' or month == 'июнь' or month == 'June' or month == 'june') :\n",
    "    print(\"Близнец\")\n",
    "else: \n",
    "    print (\"некорректная дата рождения\")"
   ]
  },
  {
   "cell_type": "markdown",
   "id": "175fcfb3",
   "metadata": {},
   "source": [
    "## Задание 4\n",
    "Вам нужно написать программу для подбора упаковок по размерам товара. Размеры (ширина, длина, высота) хранятся в переменных (в сантиметрах):\n",
    "\n",
    "Используйте следующие правила:\n",
    "\n",
    "если каждое из трех измерений менее или равно 15 сантиметрам, то выведите на экран \"Коробка №1\";\n",
    "если хотя бы одно из измерений больше 15 сантиметров, но менее 50 сантиметров, то выводите \"Коробка №2\";\n",
    "если длина товара больше 2 метров, то выводите \"Упаковка для лыж\";\n",
    "во всех остальных случаях выводите \"Стандартная коробка №3\".\n",
    "Пример работы программы:\n",
    "\n",
    "width = 15\n",
    "length = 50\n",
    "height = 15\n",
    "Результат:\n",
    "Стандартная коробка №3\n",
    "\n",
    "width = 45\n",
    "length = 205\n",
    "height = 45\n",
    "Результат:\n",
    "Ищите упаковку для лыж"
   ]
  },
  {
   "cell_type": "code",
   "execution_count": 45,
   "id": "17d4666f",
   "metadata": {},
   "outputs": [
    {
     "name": "stdout",
     "output_type": "stream",
     "text": [
      " ищите коробку для лыж\n",
      " Конец программы\n"
     ]
    }
   ],
   "source": [
    "width = 45\n",
    "length = 205\n",
    "height = 45\n",
    "if width < 15 and length < 15 and height < 15:\n",
    "    print(' Коробка №1 ')\n",
    "elif length >= 200:\n",
    "    print (' ищите коробку для лыж')\n",
    "elif width >= 50 or length >= 50 or height >= 50:\n",
    "        print (' Коробка №3 ')\n",
    "else:\n",
    "    print (' Коробка №2')\n",
    "print (' Конец программы')"
   ]
  },
  {
   "cell_type": "code",
   "execution_count": null,
   "id": "8432c84d",
   "metadata": {},
   "outputs": [],
   "source": [
    "width = 15\n",
    "length = 50\n",
    "height = 15\n",
    "if width < 15 and length < 15 and height < 15:\n",
    "    print(' Коробка №1 ')\n",
    "elif length >= 200:\n",
    "    print (' ищите коробку для лыж')\n",
    "elif width >= 50 or length >= 50 or height >= 50:\n",
    "        print (' Коробка №3 ')\n",
    "else:\n",
    "    print (' Коробка №2')\n",
    "print (' Конец программы')"
   ]
  },
  {
   "cell_type": "markdown",
   "id": "410e4a18",
   "metadata": {},
   "source": [
    "## Задание 5 (необязательное)\n",
    "Дана переменная, в которой хранится шестизначное число (номер проездного билета). Напишите программу, которая будет определять, является ли данный билет \"счастливым\". Билет считается счастливым, если сумма первых трех цифр совпадает с суммой последних трех цифр номера.\n",
    "\n",
    "Примеры работы программы:\n",
    "\n",
    "number = 123456\n",
    "\n",
    "Результат:\n",
    "\n",
    "Несчастливый билет\n",
    "\n",
    "number = 123321\n",
    "\n",
    "Результат:\n",
    "\n",
    "Счастливый билет"
   ]
  },
  {
   "cell_type": "code",
   "execution_count": 11,
   "id": "86bdb360",
   "metadata": {},
   "outputs": [
    {
     "name": "stdout",
     "output_type": "stream",
     "text": [
      "123654\n",
      "Несчастливый билет\n"
     ]
    }
   ],
   "source": [
    "num = [int(i) for i in input()]\n",
    "if sum(num[:3]) == sum(num[3:]):\n",
    "    print('Счастливый билет')\n",
    "else:\n",
    "    print('Несчастливый билет')"
   ]
  },
  {
   "cell_type": "markdown",
   "id": "0552a273",
   "metadata": {},
   "source": [
    "## Задание 6 (необязательное)\n",
    "Напишите программу, которая сможет вычислять площади трех фигур (круг, треугольник и прямоугольник). Тип фигуры запрашиваем через пользовательский ввод, после чего делаем запрос характеристик фигуры:\n",
    "\n",
    "если пользователь выбрал круг, запрашиваем его радиус,\n",
    "\n",
    "если треугольник – длины трех его сторон;\n",
    "\n",
    "если прямоугольник – длины двух его сторон.\n",
    "\n",
    "Пример работы программы:\n",
    "\n",
    "Введите тип фигуры:\n",
    "Круг\n",
    "\n",
    "Введите радиус круга:\n",
    "10\n",
    "\n",
    "Результат:\n",
    "Площадь круга: 314.16\n",
    "\n",
    "Введите тип фигуры:\n",
    "Треугольник\n",
    "\n",
    "Введите длину стороны A:\n",
    "2\n",
    "\n",
    "Введите длину стороны B:\n",
    "2\n",
    "\n",
    "Введите длину стороны C:\n",
    "3\n",
    "\n",
    "Результат:\n",
    "Площадь треугольника: 1.98"
   ]
  },
  {
   "cell_type": "code",
   "execution_count": 8,
   "id": "bad259cc",
   "metadata": {},
   "outputs": [
    {
     "data": {
      "text/plain": [
       "3.141592653589793"
      ]
     },
     "execution_count": 8,
     "metadata": {},
     "output_type": "execute_result"
    }
   ],
   "source": [
    "import math\n",
    "math.pi"
   ]
  },
  {
   "cell_type": "code",
   "execution_count": 16,
   "id": "3d6fb316",
   "metadata": {},
   "outputs": [
    {
     "name": "stdout",
     "output_type": "stream",
     "text": [
      "Введите тип фигуры: прямоугольник\n",
      "Введите длину стороны 1: 5\n",
      "Введите длину стороны 2: 7\n",
      "Площадь прямоугольника: 35\n"
     ]
    }
   ],
   "source": [
    "figure = str(input('Введите тип фигуры: '))\n",
    "if figure == 'Круг' or figure == 'круг':\n",
    "    r = int(input('Введите радиус: '))\n",
    "    print ( 'Площадь круга:', r**2*math.pi)\n",
    "elif figure == 'Треугольник'or figure == 'треугольник':\n",
    "    lengthA = int(input('Введите длину стороны A: '))\n",
    "    lengthB = int(input('Введите длину стороны B: '))\n",
    "    lengthC = int(input('Введите длину стороны C: '))\n",
    "    p = (lengthA+lengthB+lengthC)/2\n",
    "    print ('Площадь треугольника:', math.sqrt(p*(p-lengthA)*(p-lengthB)*(p-lengthC)))\n",
    "elif figure == 'Прямоугольник' or figure == 'прямоугольник':\n",
    "    length_1 = int(input('Введите длину стороны 1: '))\n",
    "    length_2 = int(input('Введите длину стороны 2: ')) \n",
    "    print ('Площадь прямоугольника:', length_1*length_2)\n",
    "else:\n",
    "    print ('некорректный ввод')"
   ]
  },
  {
   "cell_type": "code",
   "execution_count": null,
   "id": "5ce6db22",
   "metadata": {},
   "outputs": [],
   "source": []
  }
 ],
 "metadata": {
  "kernelspec": {
   "display_name": "Python 3 (ipykernel)",
   "language": "python",
   "name": "python3"
  },
  "language_info": {
   "codemirror_mode": {
    "name": "ipython",
    "version": 3
   },
   "file_extension": ".py",
   "mimetype": "text/x-python",
   "name": "python",
   "nbconvert_exporter": "python",
   "pygments_lexer": "ipython3",
   "version": "3.9.7"
  }
 },
 "nbformat": 4,
 "nbformat_minor": 5
}
